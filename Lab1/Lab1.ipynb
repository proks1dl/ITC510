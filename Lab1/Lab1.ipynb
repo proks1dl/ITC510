{
 "cells": [
  {
   "cell_type": "markdown",
   "id": "215aa61d",
   "metadata": {},
   "source": [
    "# Lab 1\n",
    "## Introduction to Jupyter and Python\n",
    "\n",
    "This lab is desiged to provide a quick review/tutorial on how to use Jupyter and Python to integrate code snippets into a single document that can be used for project reports. This lab is worth 10 points."
   ]
  },
  {
   "cell_type": "markdown",
   "id": "fa2ba8c8",
   "metadata": {},
   "source": [
    "\n",
    "### David Proksch - proks1dl\n",
    "### ITC 510 - Fall 2021\n"
   ]
  },
  {
   "cell_type": "markdown",
   "id": "04dce95d",
   "metadata": {},
   "source": [
    "### 1. In the code cell below, write code to calculate the area of of a circle given the diameter. Your input must contain the prompt \"Enter the diameter in meters: \", must allow keyboard input for the diameter, then must present the output in the form: \"The area of the circle with diameter {diameter} is {area} square meters.\" Remember, the area of a circle may be found using the equation $A = \\pi * (d / 2)^2$, where $A$ is the area and $d$ is the diameter. Format the area to show only 4 significant digits. (2 points)\n",
    "\n",
    "Example input: \n",
    "\n",
    "    Enter the diameter in meters: 2\n",
    "\n",
    "Example output:\n",
    "\n",
    "    The area of the circle with diameter 2 is 3.1416 square meters.\n"
   ]
  },
  {
   "cell_type": "code",
   "execution_count": 57,
   "id": "ec933905",
   "metadata": {},
   "outputs": [
    {
     "name": "stdout",
     "output_type": "stream",
     "text": [
      "Note: you may need to restart the kernel to use updated packages.\n"
     ]
    }
   ],
   "source": [
    "pip install pyinputplus > pip.log"
   ]
  },
  {
   "cell_type": "code",
   "execution_count": 58,
   "id": "d5fa2d76",
   "metadata": {},
   "outputs": [],
   "source": [
    "import pyinputplus as pyip\n",
    "import math"
   ]
  },
  {
   "cell_type": "code",
   "execution_count": 59,
   "id": "21c1534c",
   "metadata": {},
   "outputs": [
    {
     "name": "stdout",
     "output_type": "stream",
     "text": [
      "Enter the diameter in meters: 88\n",
      "The area of the circle with diameter 88 is 6082.1234 square meters.\n",
      "\n"
     ]
    }
   ],
   "source": [
    "diameter = pyip.inputNum(\"Enter the diameter in meters: \")\n",
    "\n",
    "area = math.pi * math.pow((diameter/2),2)\n",
    "\n",
    "print(\"The area of the circle with diameter {0} is {1:.4f} square meters.\\n\".format( diameter, area))"
   ]
  },
  {
   "cell_type": "markdown",
   "id": "504ab8b7",
   "metadata": {},
   "source": [
    "### 2. In the code cell below, write a method and script code to calculate the factorial of a given integer $n$, $2 \\leq n \\leq 20$. Format the input and output as shown in the example below. Remember, the factorial $F(n)$ may be found by: $F(n) = \\prod_{i=1}^{n}{i}$. The method must check for valid input, and either return the result of the calculation or -1 to indicate an error. (2 points)\n",
    "\n",
    "Example input:\n",
    "\n",
    "    Enter the integer (2-20) to calculate the factorial of: 5\n",
    "    \n",
    "Example output:\n",
    "\n",
    "    The factorial of 5 is 120 ."
   ]
  },
  {
   "cell_type": "code",
   "execution_count": 60,
   "id": "ffac264a",
   "metadata": {},
   "outputs": [
    {
     "name": "stdout",
     "output_type": "stream",
     "text": [
      "Enter the integer (2-20) to calculate the factorial of: 1\n",
      "\n",
      "The factorial of 1 is -1.\n",
      "\n"
     ]
    }
   ],
   "source": [
    "def factorial(n):\n",
    "    return math.factorial(n) if n >= 2 and n <= 20 else -1\n",
    "\n",
    "#\n",
    "# This is an alternative and will eliminate the need for boundry checking in code.\n",
    "#\n",
    "#n = pyip.inputInt(\"Enter the integer (2-20) to calculate the factorial of: \",min=2, max=20)\n",
    "\n",
    "n = pyip.inputInt(\"Enter the integer (2-20) to calculate the factorial of: \")\n",
    "f=factorial(n)\n",
    "print(\"\\nThe factorial of {0} is {1}.\\n\".format(n,f))"
   ]
  },
  {
   "cell_type": "markdown",
   "id": "878f44ef",
   "metadata": {},
   "source": [
    "## 3. In the code cell below, create a list which contains the elements: $\\{3,7,13,23,56\\}$. In the code cell below, write a method and the corresponding script to determine the average of these numbers. (2 points)\n",
    "\n",
    "Example output:\n",
    "\n",
    "    The average is 20.4 ."
   ]
  },
  {
   "cell_type": "code",
   "execution_count": 61,
   "id": "44c9e5d2",
   "metadata": {},
   "outputs": [
    {
     "name": "stdout",
     "output_type": "stream",
     "text": [
      "\n",
      "The averate is 20.40.\n",
      "\n"
     ]
    }
   ],
   "source": [
    "l = [3,7,13,23,56]\n",
    "\n",
    "from statistics import mean\n",
    "\n",
    "print(\"\\nThe averate is {0:.2f}.\\n\".format(mean(l)))"
   ]
  },
  {
   "cell_type": "markdown",
   "id": "42354ab5",
   "metadata": {},
   "source": [
    "### 4. In the code cell below, (a) create a list which contains the elements: $\\{4 ,6, 6, 3, 7, 8\\}$; (b) append the number 5 to the tail of the list; (c) sort the list; (d) print the values of the sorted list for only indices 2-5, inclusive using slicing. (4 points)\n",
    "\n",
    "Example output:\n",
    "\n",
    "    [5, 6, 6, 7]"
   ]
  },
  {
   "cell_type": "code",
   "execution_count": 62,
   "id": "4b1b619b",
   "metadata": {},
   "outputs": [
    {
     "name": "stdout",
     "output_type": "stream",
     "text": [
      "[5, 6, 6]\n"
     ]
    }
   ],
   "source": [
    "l = [4,6,6,3,7,8]\n",
    "#print(l)\n",
    "l.append(5)\n",
    "l.sort()\n",
    "#print(l)\n",
    "print(l[2:5])"
   ]
  },
  {
   "cell_type": "code",
   "execution_count": null,
   "id": "9cbe7462",
   "metadata": {},
   "outputs": [],
   "source": []
  }
 ],
 "metadata": {
  "kernelspec": {
   "display_name": "Python 3 (ipykernel)",
   "language": "python",
   "name": "python3"
  },
  "language_info": {
   "codemirror_mode": {
    "name": "ipython",
    "version": 3
   },
   "file_extension": ".py",
   "mimetype": "text/x-python",
   "name": "python",
   "nbconvert_exporter": "python",
   "pygments_lexer": "ipython3",
   "version": "3.8.11"
  }
 },
 "nbformat": 4,
 "nbformat_minor": 5
}

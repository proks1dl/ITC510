{
 "cells": [
  {
   "cell_type": "markdown",
   "id": "215aa61d",
   "metadata": {},
   "source": [
    "# Lab 2\n",
    "## Dictionaries in Python\n",
    "\n",
    "This lab is designed to give you practice with using the *dict* data structure in Python. This lab is worth 10 points."
   ]
  },
  {
   "cell_type": "markdown",
   "id": "76b786e5",
   "metadata": {},
   "source": [
    "<hr>\n",
    "### David Proksch\n",
    "### ITC 510 - Fall 2021\n",
    "\n",
    "<hr>\n"
   ]
  },
  {
   "cell_type": "markdown",
   "id": "04dce95d",
   "metadata": {},
   "source": [
    "### 1. In the code cell below, write a Python script to create and then print a dictionary where the keys are numbers between 1 and 15 (both included) and the values are square of the keys. (2 points)\n",
    "\n",
    "Example output:\n",
    "\n",
    "    {1: 1, 2: 4, 3: 9, 4: 16, 5: 25, 6: 36, 7: 49, 8: 64, 9: 81, 10: 100, 11: 121, 12: 144, 13: 169, 14: 196, 15: 225}\n"
   ]
  },
  {
   "cell_type": "code",
   "execution_count": 7,
   "id": "21c1534c",
   "metadata": {},
   "outputs": [
    {
     "name": "stdout",
     "output_type": "stream",
     "text": [
      "{1: 1, 2: 4, 3: 9, 4: 16, 5: 25, 6: 36, 7: 49, 8: 64, 9: 81, 10: 100, 11: 121, 12: 144, 13: 169, 14: 196, 15: 225}\n"
     ]
    }
   ],
   "source": [
    "d = {}\n",
    "for x in range(1,16,1):\n",
    "    d[x] = x*x\n",
    "    \n",
    "print(d)"
   ]
  },
  {
   "cell_type": "markdown",
   "id": "504ab8b7",
   "metadata": {},
   "source": [
    "### 2. In the code cell below, write a Python script to add all the values in the created dictionary. (2 points)\n",
    "    \n",
    "Example output:\n",
    "\n",
    "    The sum of the values is 1260 ."
   ]
  },
  {
   "cell_type": "code",
   "execution_count": 9,
   "id": "ffac264a",
   "metadata": {},
   "outputs": [
    {
     "name": "stdout",
     "output_type": "stream",
     "text": [
      "1240\n"
     ]
    }
   ],
   "source": [
    "s=0\n",
    "for x in d:\n",
    "    s += d[x]\n",
    "    \n",
    "print(s)"
   ]
  },
  {
   "cell_type": "markdown",
   "id": "878f44ef",
   "metadata": {},
   "source": [
    "### 3. In the code cell below, write a Python script that will print the value given the key *6*. (2 points)\n",
    "\n",
    "Example output:\n",
    "\n",
    "    The square of 6 is 36 ."
   ]
  },
  {
   "cell_type": "code",
   "execution_count": 10,
   "id": "44c9e5d2",
   "metadata": {},
   "outputs": [
    {
     "name": "stdout",
     "output_type": "stream",
     "text": [
      "The square of 6 is 36\n"
     ]
    }
   ],
   "source": [
    "print(\"The square of {0} is {1}\".format(6, d[6]))"
   ]
  },
  {
   "cell_type": "markdown",
   "id": "42354ab5",
   "metadata": {},
   "source": [
    "### 4. In the code cell below, write a Python program that will read in the following sequence of characters, then create a count of characters. Use the *dict* data type to assist in this exercise. (4 points)\n",
    "\n",
    "Input:\n",
    "\n",
    "    ABBCCDAABBGGAABBGGDDTTTBA\n",
    "    \n",
    "Example output:\n",
    "\n",
    "    {A: 6, B: 7, C: 2, D: 3, G: 4, T: 3}"
   ]
  },
  {
   "cell_type": "code",
   "execution_count": 20,
   "id": "4b1b619b",
   "metadata": {},
   "outputs": [
    {
     "name": "stdout",
     "output_type": "stream",
     "text": [
      "{'A': 6, 'B': 7, 'C': 2, 'D': 3, 'G': 4, 'T': 3}\n"
     ]
    }
   ],
   "source": [
    "inputstring = \"ABBCCDAABBGGAABBGGDDTTTBA\"\n",
    "d = {}\n",
    "\n",
    "for s in inputstring:\n",
    "    if s in d:\n",
    "        d[s] += 1\n",
    "    else:\n",
    "        d[s]=1\n",
    "    \n",
    "print(d)"
   ]
  }
 ],
 "metadata": {
  "kernelspec": {
   "display_name": "Python 3 (ipykernel)",
   "language": "python",
   "name": "python3"
  },
  "language_info": {
   "codemirror_mode": {
    "name": "ipython",
    "version": 3
   },
   "file_extension": ".py",
   "mimetype": "text/x-python",
   "name": "python",
   "nbconvert_exporter": "python",
   "pygments_lexer": "ipython3",
   "version": "3.8.11"
  }
 },
 "nbformat": 4,
 "nbformat_minor": 5
}

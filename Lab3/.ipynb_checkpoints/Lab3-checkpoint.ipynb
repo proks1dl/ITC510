{
 "cells": [
  {
   "cell_type": "markdown",
   "id": "215aa61d",
   "metadata": {},
   "source": [
    "# Lab 3\n",
    "## NumPy Practice Lab\n",
    "\n",
    "This lab is designed to give you practice with using the NumPy module in Python. This lab is worth 10 points. For all these problems, make sure you print your output so it appears beneathe the appropriate cell when run. Submit a .ipynb file by Monday, Sept. 13, 2021 at 11:59pm on BlackBoard."
   ]
  },
  {
   "cell_type": "markdown",
   "id": "a68e8aa8",
   "metadata": {},
   "source": [
    "## David Proksch proks1dl\n",
    "## ITC510 - Fall 2021"
   ]
  },
  {
   "cell_type": "code",
   "execution_count": 3,
   "id": "af54d105",
   "metadata": {},
   "outputs": [
    {
     "name": "stdout",
     "output_type": "stream",
     "text": [
      "Note: you may need to restart the kernel to use updated packages.\n"
     ]
    }
   ],
   "source": [
    "pip install numpy >> /dev/null"
   ]
  },
  {
   "cell_type": "code",
   "execution_count": 2,
   "id": "9210728d",
   "metadata": {},
   "outputs": [],
   "source": [
    "import numpy as np"
   ]
  },
  {
   "cell_type": "markdown",
   "id": "a729abe4",
   "metadata": {},
   "source": [
    "### 1. In the code cell below, write a Python script to create an array with values ranging from 21 to 36. (2 points)\n",
    "\n",
    "Example output:\n",
    "\n",
    "    [21 22 23 24 25 26 27 28 29 30 31 32 33 34 35 36]"
   ]
  },
  {
   "cell_type": "code",
   "execution_count": 19,
   "id": "a3d7ca78",
   "metadata": {},
   "outputs": [
    {
     "name": "stdout",
     "output_type": "stream",
     "text": [
      "[21 22 23 24 25 26 27 28 29 30 31 32 33 34 35 36]\n"
     ]
    }
   ],
   "source": [
    "a = np.arange(21,37, step=1)\n",
    "print(a)"
   ]
  },
  {
   "cell_type": "markdown",
   "id": "04dce95d",
   "metadata": {},
   "source": [
    "### 2. In the code cell below, write a Python script to create a 3x3 matrix with values ranging from 2 to 10. (2 points)\n",
    "\n",
    "Example output:\n",
    "\n",
    "    [[ 2  3  4]                                                             \n",
    "     [ 5  6  7]                                                             \n",
    "     [ 8  9 10]]\n"
   ]
  },
  {
   "cell_type": "code",
   "execution_count": 13,
   "id": "21c1534c",
   "metadata": {},
   "outputs": [
    {
     "name": "stdout",
     "output_type": "stream",
     "text": [
      "[[ 2  3  4]\n",
      " [ 5  6  7]\n",
      " [ 8  9 10]]\n"
     ]
    }
   ],
   "source": [
    "m=np.matrix(range(2,11)).reshape(3,3)\n",
    "print(m)"
   ]
  },
  {
   "cell_type": "markdown",
   "id": "504ab8b7",
   "metadata": {},
   "source": [
    "### 3. In the code cell below, write a Python script to reverse the order of the array created from exercise 1. (2 points)\n",
    "    \n",
    "Example output:\n",
    "\n",
    "    [36 35 34 33 32 31 30 29 28 27 26 25 24 23 22 21]"
   ]
  },
  {
   "cell_type": "code",
   "execution_count": 23,
   "id": "ffac264a",
   "metadata": {},
   "outputs": [
    {
     "name": "stdout",
     "output_type": "stream",
     "text": [
      "[36 35 34 33 32 31 30 29 28 27 26 25 24 23 22 21]\n"
     ]
    }
   ],
   "source": [
    "o=np.sort(a)[::-1]\n",
    "print(o)"
   ]
  },
  {
   "cell_type": "markdown",
   "id": "878f44ef",
   "metadata": {},
   "source": [
    "### 4.  In the code cell below, to convert the values of Centigrade degrees into Fahrenheit degrees. Centigrade values are stored into a NumPy array. Format the output to have at most 2 significant digits displayed. (2 points)\n",
    "\n",
    "Example input:\n",
    "\n",
    "    [0, 12, 45.21 ,34, 99.91]\n",
    "    \n",
    "Example output:\n",
    "\n",
    "    [-17.78 -11.11 7.34 1.11 37.73]"
   ]
  },
  {
   "cell_type": "code",
   "execution_count": 11,
   "id": "44c9e5d2",
   "metadata": {},
   "outputs": [
    {
     "name": "stdout",
     "output_type": "stream",
     "text": [
      "[ 32.     53.6   113.378  93.2   211.838]\n"
     ]
    }
   ],
   "source": [
    "c=np.array([0, 12, 45.21, 34, 99.91])\n",
    "\n",
    "def c2f(d):\n",
    "    return (((d* (9/5))) + 32)            \n",
    "\n",
    "\n",
    "            \n",
    "f=c2f(c)\n",
    "print(f)"
   ]
  },
  {
   "cell_type": "markdown",
   "id": "42354ab5",
   "metadata": {},
   "source": [
    "### 5. In the code cell below, write a Python script to remove nan values from a given array. (2 points)\n",
    "\n",
    "Example input:\n",
    "\n",
    "    [120. 240. nan nan nan 800. 980.]\n",
    "    \n",
    "Example output:\n",
    "\n",
    "    [120. 240. 800. 980.]"
   ]
  },
  {
   "cell_type": "code",
   "execution_count": 14,
   "id": "4b1b619b",
   "metadata": {},
   "outputs": [
    {
     "name": "stdout",
     "output_type": "stream",
     "text": [
      "[120. 240. 800. 980.]\n"
     ]
    }
   ],
   "source": [
    "a = np.array([120., 240., np.nan, np.nan, np.nan, 800., 980.])\n",
    "\n",
    "print(a[~ np.isnan(a)])"
   ]
  },
  {
   "cell_type": "code",
   "execution_count": null,
   "id": "e83a1c9a",
   "metadata": {},
   "outputs": [],
   "source": []
  }
 ],
 "metadata": {
  "kernelspec": {
   "display_name": "Python 3 (ipykernel)",
   "language": "python",
   "name": "python3"
  },
  "language_info": {
   "codemirror_mode": {
    "name": "ipython",
    "version": 3
   },
   "file_extension": ".py",
   "mimetype": "text/x-python",
   "name": "python",
   "nbconvert_exporter": "python",
   "pygments_lexer": "ipython3",
   "version": "3.8.11"
  }
 },
 "nbformat": 4,
 "nbformat_minor": 5
}

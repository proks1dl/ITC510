{
 "cells": [
  {
   "cell_type": "markdown",
   "id": "0db959ba",
   "metadata": {},
   "source": [
    "# Homework 1\n",
    "## Due Sept. 8, 2021 by 11:59pm via BlackBoard\n",
    "\n",
    "This homework involves input from a file, a little regular expressions, string processing and word counting. (40 Points)"
   ]
  },
  {
   "cell_type": "markdown",
   "id": "93a37404",
   "metadata": {},
   "source": [
    "In this homework, you are given the task of reading a text file (attached with the assignment) and counting the number of occurrences of each unique word (case insensitive) exist, writing the result (sorted lexicographically) to an output text file named \"Counts.txt\". Submit both the .ipynb (or .py) file used to do the word count, plus your output text file. Beware of non-alphabetic characters like periods, commas and apostrophes!\n",
    "\n",
    "Sample input:\n",
    "\n",
    "    The dog ate the cat's food, then went to sleep. \n",
    "    \n",
    "    The end.\n",
    "    \n",
    "Sample output:\n",
    "\n",
    "    ate 1\n",
    "    cat 1\n",
    "    dog 1\n",
    "    end 1\n",
    "    food 1\n",
    "    sleep 1\n",
    "    the 3\n",
    "    then 1\n",
    "    to 1\n",
    "    went 1\n",
    "    "
   ]
  },
  {
   "cell_type": "code",
   "execution_count": null,
   "id": "cc33deb1",
   "metadata": {},
   "outputs": [],
   "source": []
  }
 ],
 "metadata": {
  "kernelspec": {
   "display_name": "Python 3 (ipykernel)",
   "language": "python",
   "name": "python3"
  },
  "language_info": {
   "codemirror_mode": {
    "name": "ipython",
    "version": 3
   },
   "file_extension": ".py",
   "mimetype": "text/x-python",
   "name": "python",
   "nbconvert_exporter": "python",
   "pygments_lexer": "ipython3",
   "version": "3.8.10"
  }
 },
 "nbformat": 4,
 "nbformat_minor": 5
}
